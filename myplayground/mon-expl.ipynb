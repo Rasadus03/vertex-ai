{
 "cells": [
  {
   "cell_type": "code",
   "execution_count": 54,
   "id": "d0a7074d-c5ea-49bc-960e-396f80d8d5a6",
   "metadata": {},
   "outputs": [
    {
     "name": "stdout",
     "output_type": "stream",
     "text": [
      "Requirement already satisfied: google-cloud-bigquery in /home/jupyter/.local/lib/python3.7/site-packages (2.34.4)\n",
      "Requirement already satisfied: db-dtypes in /home/jupyter/.local/lib/python3.7/site-packages (1.0.4)\n",
      "Requirement already satisfied: pandas in /opt/conda/lib/python3.7/site-packages (1.3.5)\n",
      "Requirement already satisfied: pyarrow in /opt/conda/lib/python3.7/site-packages (9.0.0)\n",
      "Requirement already satisfied: kfp==1.8.14 in /home/jupyter/.local/lib/python3.7/site-packages (1.8.14)\n",
      "Requirement already satisfied: google-api-core!=2.0.*,!=2.1.*,!=2.2.*,!=2.3.0,<3.0.0dev,>=1.31.5 in /opt/conda/lib/python3.7/site-packages (from kfp==1.8.14) (2.8.0)\n",
      "Requirement already satisfied: docstring-parser<1,>=0.7.3 in /home/jupyter/.local/lib/python3.7/site-packages (from kfp==1.8.14) (0.15)\n",
      "Requirement already satisfied: click<9,>=7.1.2 in /opt/conda/lib/python3.7/site-packages (from kfp==1.8.14) (8.1.3)\n",
      "Requirement already satisfied: kfp-pipeline-spec<0.2.0,>=0.1.16 in /home/jupyter/.local/lib/python3.7/site-packages (from kfp==1.8.14) (0.1.16)\n",
      "Requirement already satisfied: typer<1.0,>=0.3.2 in /home/jupyter/.local/lib/python3.7/site-packages (from kfp==1.8.14) (0.6.1)\n",
      "Requirement already satisfied: strip-hints<1,>=0.1.8 in /home/jupyter/.local/lib/python3.7/site-packages (from kfp==1.8.14) (0.1.10)\n",
      "Requirement already satisfied: jsonschema<4,>=3.0.1 in /home/jupyter/.local/lib/python3.7/site-packages (from kfp==1.8.14) (3.2.0)\n",
      "Requirement already satisfied: requests-toolbelt<1,>=0.8.0 in /home/jupyter/.local/lib/python3.7/site-packages (from kfp==1.8.14) (0.10.0)\n",
      "Requirement already satisfied: tabulate<1,>=0.8.6 in /home/jupyter/.local/lib/python3.7/site-packages (from kfp==1.8.14) (0.9.0)\n",
      "Requirement already satisfied: typing-extensions<5,>=3.7.4 in /home/jupyter/.local/lib/python3.7/site-packages (from kfp==1.8.14) (3.10.0.2)\n",
      "Requirement already satisfied: cloudpickle<3,>=2.0.0 in /opt/conda/lib/python3.7/site-packages (from kfp==1.8.14) (2.2.0)\n",
      "Requirement already satisfied: uritemplate<4,>=3.0.1 in /home/jupyter/.local/lib/python3.7/site-packages (from kfp==1.8.14) (3.0.1)\n",
      "Requirement already satisfied: pydantic<2,>=1.8.2 in /home/jupyter/.local/lib/python3.7/site-packages (from kfp==1.8.14) (1.9.2)\n",
      "Requirement already satisfied: PyYAML<6,>=5.3 in /home/jupyter/.local/lib/python3.7/site-packages (from kfp==1.8.14) (5.4.1)\n",
      "Requirement already satisfied: fire<1,>=0.3.1 in /home/jupyter/.local/lib/python3.7/site-packages (from kfp==1.8.14) (0.4.0)\n",
      "Requirement already satisfied: kubernetes<19,>=8.0.0 in /home/jupyter/.local/lib/python3.7/site-packages (from kfp==1.8.14) (18.20.0)\n",
      "Requirement already satisfied: Deprecated<2,>=1.2.7 in /home/jupyter/.local/lib/python3.7/site-packages (from kfp==1.8.14) (1.2.13)\n",
      "Requirement already satisfied: google-api-python-client<2,>=1.7.8 in /home/jupyter/.local/lib/python3.7/site-packages (from kfp==1.8.14) (1.12.11)\n",
      "Requirement already satisfied: absl-py<2,>=0.9 in /home/jupyter/.local/lib/python3.7/site-packages (from kfp==1.8.14) (0.11.0)\n",
      "Requirement already satisfied: google-cloud-storage<2,>=1.20.0 in /home/jupyter/.local/lib/python3.7/site-packages (from kfp==1.8.14) (1.44.0)\n",
      "Requirement already satisfied: google-auth<2,>=1.6.1 in /home/jupyter/.local/lib/python3.7/site-packages (from kfp==1.8.14) (1.35.0)\n",
      "Requirement already satisfied: protobuf<4,>=3.13.0 in /opt/conda/lib/python3.7/site-packages (from kfp==1.8.14) (3.20.3)\n",
      "Requirement already satisfied: kfp-server-api<2.0.0,>=1.1.2 in /home/jupyter/.local/lib/python3.7/site-packages (from kfp==1.8.14) (1.8.5)\n",
      "Requirement already satisfied: requests<3.0.0dev,>=2.18.0 in /opt/conda/lib/python3.7/site-packages (from google-cloud-bigquery) (2.28.1)\n",
      "Requirement already satisfied: google-cloud-core<3.0.0dev,>=1.4.1 in /opt/conda/lib/python3.7/site-packages (from google-cloud-bigquery) (2.3.2)\n",
      "Requirement already satisfied: python-dateutil<3.0dev,>=2.7.2 in /opt/conda/lib/python3.7/site-packages (from google-cloud-bigquery) (2.8.2)\n",
      "Requirement already satisfied: packaging<22.0dev,>=14.3 in /opt/conda/lib/python3.7/site-packages (from google-cloud-bigquery) (21.3)\n",
      "Requirement already satisfied: proto-plus<2.0.0dev,>=1.15.0 in /opt/conda/lib/python3.7/site-packages (from google-cloud-bigquery) (1.22.1)\n",
      "Requirement already satisfied: google-resumable-media<3.0dev,>=0.6.0 in /opt/conda/lib/python3.7/site-packages (from google-cloud-bigquery) (2.4.0)\n",
      "Requirement already satisfied: grpcio<2.0dev,>=1.38.1 in /opt/conda/lib/python3.7/site-packages (from google-cloud-bigquery) (1.49.1)\n",
      "Requirement already satisfied: numpy<2.0dev,>=1.16.6 in /opt/conda/lib/python3.7/site-packages (from db-dtypes) (1.21.6)\n",
      "Requirement already satisfied: pytz>=2017.3 in /opt/conda/lib/python3.7/site-packages (from pandas) (2022.4)\n",
      "Requirement already satisfied: six in /opt/conda/lib/python3.7/site-packages (from absl-py<2,>=0.9->kfp==1.8.14) (1.16.0)\n",
      "Requirement already satisfied: importlib-metadata in /opt/conda/lib/python3.7/site-packages (from click<9,>=7.1.2->kfp==1.8.14) (4.11.4)\n",
      "Requirement already satisfied: wrapt<2,>=1.10 in /opt/conda/lib/python3.7/site-packages (from Deprecated<2,>=1.2.7->kfp==1.8.14) (1.14.1)\n",
      "Requirement already satisfied: termcolor in /opt/conda/lib/python3.7/site-packages (from fire<1,>=0.3.1->kfp==1.8.14) (2.0.1)\n",
      "Requirement already satisfied: googleapis-common-protos<2.0dev,>=1.52.0 in /opt/conda/lib/python3.7/site-packages (from google-api-core!=2.0.*,!=2.1.*,!=2.2.*,!=2.3.0,<3.0.0dev,>=1.31.5->kfp==1.8.14) (1.56.4)\n",
      "Requirement already satisfied: grpcio-status<2.0dev,>=1.33.2 in /opt/conda/lib/python3.7/site-packages (from google-api-core!=2.0.*,!=2.1.*,!=2.2.*,!=2.3.0,<3.0.0dev,>=1.31.5->kfp==1.8.14) (1.48.2)\n",
      "Requirement already satisfied: google-auth-httplib2>=0.0.3 in /opt/conda/lib/python3.7/site-packages (from google-api-python-client<2,>=1.7.8->kfp==1.8.14) (0.1.0)\n",
      "Requirement already satisfied: httplib2<1dev,>=0.15.0 in /opt/conda/lib/python3.7/site-packages (from google-api-python-client<2,>=1.7.8->kfp==1.8.14) (0.20.4)\n",
      "Requirement already satisfied: rsa<5,>=3.1.4 in /opt/conda/lib/python3.7/site-packages (from google-auth<2,>=1.6.1->kfp==1.8.14) (4.9)\n",
      "Requirement already satisfied: cachetools<5.0,>=2.0.0 in /home/jupyter/.local/lib/python3.7/site-packages (from google-auth<2,>=1.6.1->kfp==1.8.14) (4.2.4)\n",
      "Requirement already satisfied: pyasn1-modules>=0.2.1 in /opt/conda/lib/python3.7/site-packages (from google-auth<2,>=1.6.1->kfp==1.8.14) (0.2.7)\n",
      "Requirement already satisfied: setuptools>=40.3.0 in /opt/conda/lib/python3.7/site-packages (from google-auth<2,>=1.6.1->kfp==1.8.14) (59.8.0)\n",
      "Requirement already satisfied: google-crc32c<2.0dev,>=1.0 in /opt/conda/lib/python3.7/site-packages (from google-resumable-media<3.0dev,>=0.6.0->google-cloud-bigquery) (1.1.2)\n",
      "Requirement already satisfied: attrs>=17.4.0 in /opt/conda/lib/python3.7/site-packages (from jsonschema<4,>=3.0.1->kfp==1.8.14) (22.1.0)\n",
      "Requirement already satisfied: pyrsistent>=0.14.0 in /opt/conda/lib/python3.7/site-packages (from jsonschema<4,>=3.0.1->kfp==1.8.14) (0.18.1)\n",
      "Requirement already satisfied: urllib3>=1.15 in /opt/conda/lib/python3.7/site-packages (from kfp-server-api<2.0.0,>=1.1.2->kfp==1.8.14) (1.26.11)\n",
      "Requirement already satisfied: certifi in /opt/conda/lib/python3.7/site-packages (from kfp-server-api<2.0.0,>=1.1.2->kfp==1.8.14) (2022.9.24)\n",
      "Requirement already satisfied: websocket-client!=0.40.0,!=0.41.*,!=0.42.*,>=0.32.0 in /opt/conda/lib/python3.7/site-packages (from kubernetes<19,>=8.0.0->kfp==1.8.14) (1.4.1)\n",
      "Requirement already satisfied: requests-oauthlib in /opt/conda/lib/python3.7/site-packages (from kubernetes<19,>=8.0.0->kfp==1.8.14) (1.3.1)\n",
      "Requirement already satisfied: pyparsing!=3.0.5,>=2.0.2 in /opt/conda/lib/python3.7/site-packages (from packaging<22.0dev,>=14.3->google-cloud-bigquery) (3.0.9)\n",
      "Requirement already satisfied: idna<4,>=2.5 in /opt/conda/lib/python3.7/site-packages (from requests<3.0.0dev,>=2.18.0->google-cloud-bigquery) (3.4)\n",
      "Requirement already satisfied: charset-normalizer<3,>=2 in /opt/conda/lib/python3.7/site-packages (from requests<3.0.0dev,>=2.18.0->google-cloud-bigquery) (2.1.1)\n",
      "Requirement already satisfied: wheel in /opt/conda/lib/python3.7/site-packages (from strip-hints<1,>=0.1.8->kfp==1.8.14) (0.37.1)\n",
      "Requirement already satisfied: cffi>=1.0.0 in /opt/conda/lib/python3.7/site-packages (from google-crc32c<2.0dev,>=1.0->google-resumable-media<3.0dev,>=0.6.0->google-cloud-bigquery) (1.15.1)\n",
      "Requirement already satisfied: pyasn1<0.5.0,>=0.4.6 in /opt/conda/lib/python3.7/site-packages (from pyasn1-modules>=0.2.1->google-auth<2,>=1.6.1->kfp==1.8.14) (0.4.8)\n",
      "Requirement already satisfied: zipp>=0.5 in /opt/conda/lib/python3.7/site-packages (from importlib-metadata->click<9,>=7.1.2->kfp==1.8.14) (3.9.0)\n",
      "Requirement already satisfied: oauthlib>=3.0.0 in /opt/conda/lib/python3.7/site-packages (from requests-oauthlib->kubernetes<19,>=8.0.0->kfp==1.8.14) (3.2.1)\n",
      "Requirement already satisfied: pycparser in /opt/conda/lib/python3.7/site-packages (from cffi>=1.0.0->google-crc32c<2.0dev,>=1.0->google-resumable-media<3.0dev,>=0.6.0->google-cloud-bigquery) (2.21)\n"
     ]
    }
   ],
   "source": [
    "!python3 -m pip install  --user    --no-warn-script-location 'google-cloud-bigquery' 'db-dtypes' 'pandas' 'pyarrow' 'kfp==1.8.14'"
   ]
  },
  {
   "cell_type": "code",
   "execution_count": 55,
   "id": "ba3e395e-9322-44fe-a280-fe723a1f25c3",
   "metadata": {},
   "outputs": [
    {
     "name": "stdout",
     "output_type": "stream",
     "text": [
      "Requirement already satisfied: google-cloud-aiplatform in /home/jupyter/.local/lib/python3.7/site-packages (1.18.1)\n",
      "Requirement already satisfied: proto-plus<2.0.0dev,>=1.22.0 in /opt/conda/lib/python3.7/site-packages (from google-cloud-aiplatform) (1.22.1)\n",
      "Requirement already satisfied: packaging<22.0.0dev,>=14.3 in /opt/conda/lib/python3.7/site-packages (from google-cloud-aiplatform) (21.3)\n",
      "Requirement already satisfied: google-cloud-resource-manager<3.0.0dev,>=1.3.3 in /opt/conda/lib/python3.7/site-packages (from google-cloud-aiplatform) (1.6.3)\n",
      "Requirement already satisfied: google-cloud-bigquery<3.0.0dev,>=1.15.0 in /home/jupyter/.local/lib/python3.7/site-packages (from google-cloud-aiplatform) (2.34.4)\n",
      "Requirement already satisfied: google-cloud-storage<3.0.0dev,>=1.32.0 in /home/jupyter/.local/lib/python3.7/site-packages (from google-cloud-aiplatform) (1.44.0)\n",
      "Requirement already satisfied: google-api-core[grpc]!=2.0.*,!=2.1.*,!=2.2.*,!=2.3.*,!=2.4.*,!=2.5.*,!=2.6.*,!=2.7.*,<3.0.0dev,>=1.32.0 in /opt/conda/lib/python3.7/site-packages (from google-cloud-aiplatform) (2.8.0)\n",
      "Requirement already satisfied: protobuf!=3.20.0,!=3.20.1,!=4.21.0,!=4.21.1,!=4.21.2,!=4.21.3,!=4.21.4,!=4.21.5,<5.0.0dev,>=3.19.5 in /opt/conda/lib/python3.7/site-packages (from google-cloud-aiplatform) (3.20.3)\n",
      "Requirement already satisfied: googleapis-common-protos<2.0dev,>=1.52.0 in /opt/conda/lib/python3.7/site-packages (from google-api-core[grpc]!=2.0.*,!=2.1.*,!=2.2.*,!=2.3.*,!=2.4.*,!=2.5.*,!=2.6.*,!=2.7.*,<3.0.0dev,>=1.32.0->google-cloud-aiplatform) (1.56.4)\n",
      "Requirement already satisfied: google-auth<3.0dev,>=1.25.0 in /home/jupyter/.local/lib/python3.7/site-packages (from google-api-core[grpc]!=2.0.*,!=2.1.*,!=2.2.*,!=2.3.*,!=2.4.*,!=2.5.*,!=2.6.*,!=2.7.*,<3.0.0dev,>=1.32.0->google-cloud-aiplatform) (1.35.0)\n",
      "Requirement already satisfied: requests<3.0.0dev,>=2.18.0 in /opt/conda/lib/python3.7/site-packages (from google-api-core[grpc]!=2.0.*,!=2.1.*,!=2.2.*,!=2.3.*,!=2.4.*,!=2.5.*,!=2.6.*,!=2.7.*,<3.0.0dev,>=1.32.0->google-cloud-aiplatform) (2.28.1)\n",
      "Requirement already satisfied: grpcio<2.0dev,>=1.33.2 in /opt/conda/lib/python3.7/site-packages (from google-api-core[grpc]!=2.0.*,!=2.1.*,!=2.2.*,!=2.3.*,!=2.4.*,!=2.5.*,!=2.6.*,!=2.7.*,<3.0.0dev,>=1.32.0->google-cloud-aiplatform) (1.49.1)\n",
      "Requirement already satisfied: grpcio-status<2.0dev,>=1.33.2 in /opt/conda/lib/python3.7/site-packages (from google-api-core[grpc]!=2.0.*,!=2.1.*,!=2.2.*,!=2.3.*,!=2.4.*,!=2.5.*,!=2.6.*,!=2.7.*,<3.0.0dev,>=1.32.0->google-cloud-aiplatform) (1.48.2)\n",
      "Requirement already satisfied: google-cloud-core<3.0.0dev,>=1.4.1 in /opt/conda/lib/python3.7/site-packages (from google-cloud-bigquery<3.0.0dev,>=1.15.0->google-cloud-aiplatform) (2.3.2)\n",
      "Requirement already satisfied: python-dateutil<3.0dev,>=2.7.2 in /opt/conda/lib/python3.7/site-packages (from google-cloud-bigquery<3.0.0dev,>=1.15.0->google-cloud-aiplatform) (2.8.2)\n",
      "Requirement already satisfied: google-resumable-media<3.0dev,>=0.6.0 in /opt/conda/lib/python3.7/site-packages (from google-cloud-bigquery<3.0.0dev,>=1.15.0->google-cloud-aiplatform) (2.4.0)\n",
      "Requirement already satisfied: grpc-google-iam-v1<1.0.0dev,>=0.12.4 in /opt/conda/lib/python3.7/site-packages (from google-cloud-resource-manager<3.0.0dev,>=1.3.3->google-cloud-aiplatform) (0.12.4)\n",
      "Requirement already satisfied: six in /opt/conda/lib/python3.7/site-packages (from google-cloud-storage<3.0.0dev,>=1.32.0->google-cloud-aiplatform) (1.16.0)\n",
      "Requirement already satisfied: pyparsing!=3.0.5,>=2.0.2 in /opt/conda/lib/python3.7/site-packages (from packaging<22.0.0dev,>=14.3->google-cloud-aiplatform) (3.0.9)\n",
      "Requirement already satisfied: rsa<5,>=3.1.4 in /opt/conda/lib/python3.7/site-packages (from google-auth<3.0dev,>=1.25.0->google-api-core[grpc]!=2.0.*,!=2.1.*,!=2.2.*,!=2.3.*,!=2.4.*,!=2.5.*,!=2.6.*,!=2.7.*,<3.0.0dev,>=1.32.0->google-cloud-aiplatform) (4.9)\n",
      "Requirement already satisfied: setuptools>=40.3.0 in /opt/conda/lib/python3.7/site-packages (from google-auth<3.0dev,>=1.25.0->google-api-core[grpc]!=2.0.*,!=2.1.*,!=2.2.*,!=2.3.*,!=2.4.*,!=2.5.*,!=2.6.*,!=2.7.*,<3.0.0dev,>=1.32.0->google-cloud-aiplatform) (59.8.0)\n",
      "Requirement already satisfied: cachetools<5.0,>=2.0.0 in /home/jupyter/.local/lib/python3.7/site-packages (from google-auth<3.0dev,>=1.25.0->google-api-core[grpc]!=2.0.*,!=2.1.*,!=2.2.*,!=2.3.*,!=2.4.*,!=2.5.*,!=2.6.*,!=2.7.*,<3.0.0dev,>=1.32.0->google-cloud-aiplatform) (4.2.4)\n",
      "Requirement already satisfied: pyasn1-modules>=0.2.1 in /opt/conda/lib/python3.7/site-packages (from google-auth<3.0dev,>=1.25.0->google-api-core[grpc]!=2.0.*,!=2.1.*,!=2.2.*,!=2.3.*,!=2.4.*,!=2.5.*,!=2.6.*,!=2.7.*,<3.0.0dev,>=1.32.0->google-cloud-aiplatform) (0.2.7)\n",
      "Requirement already satisfied: google-crc32c<2.0dev,>=1.0 in /opt/conda/lib/python3.7/site-packages (from google-resumable-media<3.0dev,>=0.6.0->google-cloud-bigquery<3.0.0dev,>=1.15.0->google-cloud-aiplatform) (1.1.2)\n",
      "Requirement already satisfied: urllib3<1.27,>=1.21.1 in /opt/conda/lib/python3.7/site-packages (from requests<3.0.0dev,>=2.18.0->google-api-core[grpc]!=2.0.*,!=2.1.*,!=2.2.*,!=2.3.*,!=2.4.*,!=2.5.*,!=2.6.*,!=2.7.*,<3.0.0dev,>=1.32.0->google-cloud-aiplatform) (1.26.11)\n",
      "Requirement already satisfied: charset-normalizer<3,>=2 in /opt/conda/lib/python3.7/site-packages (from requests<3.0.0dev,>=2.18.0->google-api-core[grpc]!=2.0.*,!=2.1.*,!=2.2.*,!=2.3.*,!=2.4.*,!=2.5.*,!=2.6.*,!=2.7.*,<3.0.0dev,>=1.32.0->google-cloud-aiplatform) (2.1.1)\n",
      "Requirement already satisfied: idna<4,>=2.5 in /opt/conda/lib/python3.7/site-packages (from requests<3.0.0dev,>=2.18.0->google-api-core[grpc]!=2.0.*,!=2.1.*,!=2.2.*,!=2.3.*,!=2.4.*,!=2.5.*,!=2.6.*,!=2.7.*,<3.0.0dev,>=1.32.0->google-cloud-aiplatform) (3.4)\n",
      "Requirement already satisfied: certifi>=2017.4.17 in /opt/conda/lib/python3.7/site-packages (from requests<3.0.0dev,>=2.18.0->google-api-core[grpc]!=2.0.*,!=2.1.*,!=2.2.*,!=2.3.*,!=2.4.*,!=2.5.*,!=2.6.*,!=2.7.*,<3.0.0dev,>=1.32.0->google-cloud-aiplatform) (2022.9.24)\n",
      "Requirement already satisfied: cffi>=1.0.0 in /opt/conda/lib/python3.7/site-packages (from google-crc32c<2.0dev,>=1.0->google-resumable-media<3.0dev,>=0.6.0->google-cloud-bigquery<3.0.0dev,>=1.15.0->google-cloud-aiplatform) (1.15.1)\n",
      "Requirement already satisfied: pyasn1<0.5.0,>=0.4.6 in /opt/conda/lib/python3.7/site-packages (from pyasn1-modules>=0.2.1->google-auth<3.0dev,>=1.25.0->google-api-core[grpc]!=2.0.*,!=2.1.*,!=2.2.*,!=2.3.*,!=2.4.*,!=2.5.*,!=2.6.*,!=2.7.*,<3.0.0dev,>=1.32.0->google-cloud-aiplatform) (0.4.8)\n",
      "Requirement already satisfied: pycparser in /opt/conda/lib/python3.7/site-packages (from cffi>=1.0.0->google-crc32c<2.0dev,>=1.0->google-resumable-media<3.0dev,>=0.6.0->google-cloud-bigquery<3.0.0dev,>=1.15.0->google-cloud-aiplatform) (2.21)\n",
      "Requirement already satisfied: google-cloud-pipeline-components in /home/jupyter/.local/lib/python3.7/site-packages (1.0.25)\n",
      "Requirement already satisfied: google-cloud-notebooks>=0.4.0 in /home/jupyter/.local/lib/python3.7/site-packages (from google-cloud-pipeline-components) (1.4.4)\n",
      "Requirement already satisfied: google-cloud-aiplatform<2,>=1.11.0 in /home/jupyter/.local/lib/python3.7/site-packages (from google-cloud-pipeline-components) (1.18.1)\n",
      "Requirement already satisfied: google-api-core!=2.0.*,!=2.1.*,!=2.2.*,!=2.3.0,<3.0.0dev,>=1.31.5 in /opt/conda/lib/python3.7/site-packages (from google-cloud-pipeline-components) (2.8.0)\n",
      "Requirement already satisfied: kfp<2.0.0,>=1.8.9 in /home/jupyter/.local/lib/python3.7/site-packages (from google-cloud-pipeline-components) (1.8.14)\n",
      "Requirement already satisfied: google-cloud-storage<2,>=1.20.0 in /home/jupyter/.local/lib/python3.7/site-packages (from google-cloud-pipeline-components) (1.44.0)\n",
      "Requirement already satisfied: googleapis-common-protos<2.0dev,>=1.52.0 in /opt/conda/lib/python3.7/site-packages (from google-api-core!=2.0.*,!=2.1.*,!=2.2.*,!=2.3.0,<3.0.0dev,>=1.31.5->google-cloud-pipeline-components) (1.56.4)\n",
      "Requirement already satisfied: protobuf>=3.12.0 in /opt/conda/lib/python3.7/site-packages (from google-api-core!=2.0.*,!=2.1.*,!=2.2.*,!=2.3.0,<3.0.0dev,>=1.31.5->google-cloud-pipeline-components) (3.20.3)\n",
      "Requirement already satisfied: google-auth<3.0dev,>=1.25.0 in /home/jupyter/.local/lib/python3.7/site-packages (from google-api-core!=2.0.*,!=2.1.*,!=2.2.*,!=2.3.0,<3.0.0dev,>=1.31.5->google-cloud-pipeline-components) (1.35.0)\n",
      "Requirement already satisfied: requests<3.0.0dev,>=2.18.0 in /opt/conda/lib/python3.7/site-packages (from google-api-core!=2.0.*,!=2.1.*,!=2.2.*,!=2.3.0,<3.0.0dev,>=1.31.5->google-cloud-pipeline-components) (2.28.1)\n",
      "Requirement already satisfied: proto-plus<2.0.0dev,>=1.22.0 in /opt/conda/lib/python3.7/site-packages (from google-cloud-aiplatform<2,>=1.11.0->google-cloud-pipeline-components) (1.22.1)\n",
      "Requirement already satisfied: packaging<22.0.0dev,>=14.3 in /opt/conda/lib/python3.7/site-packages (from google-cloud-aiplatform<2,>=1.11.0->google-cloud-pipeline-components) (21.3)\n",
      "Requirement already satisfied: google-cloud-resource-manager<3.0.0dev,>=1.3.3 in /opt/conda/lib/python3.7/site-packages (from google-cloud-aiplatform<2,>=1.11.0->google-cloud-pipeline-components) (1.6.3)\n",
      "Requirement already satisfied: google-cloud-bigquery<3.0.0dev,>=1.15.0 in /home/jupyter/.local/lib/python3.7/site-packages (from google-cloud-aiplatform<2,>=1.11.0->google-cloud-pipeline-components) (2.34.4)\n",
      "Requirement already satisfied: google-resumable-media<3.0dev,>=1.3.0 in /opt/conda/lib/python3.7/site-packages (from google-cloud-storage<2,>=1.20.0->google-cloud-pipeline-components) (2.4.0)\n",
      "Requirement already satisfied: six in /opt/conda/lib/python3.7/site-packages (from google-cloud-storage<2,>=1.20.0->google-cloud-pipeline-components) (1.16.0)\n",
      "Requirement already satisfied: google-cloud-core<3.0dev,>=1.6.0 in /opt/conda/lib/python3.7/site-packages (from google-cloud-storage<2,>=1.20.0->google-cloud-pipeline-components) (2.3.2)\n",
      "Requirement already satisfied: uritemplate<4,>=3.0.1 in /home/jupyter/.local/lib/python3.7/site-packages (from kfp<2.0.0,>=1.8.9->google-cloud-pipeline-components) (3.0.1)\n",
      "Requirement already satisfied: PyYAML<6,>=5.3 in /home/jupyter/.local/lib/python3.7/site-packages (from kfp<2.0.0,>=1.8.9->google-cloud-pipeline-components) (5.4.1)\n",
      "Requirement already satisfied: tabulate<1,>=0.8.6 in /home/jupyter/.local/lib/python3.7/site-packages (from kfp<2.0.0,>=1.8.9->google-cloud-pipeline-components) (0.9.0)\n",
      "Requirement already satisfied: strip-hints<1,>=0.1.8 in /home/jupyter/.local/lib/python3.7/site-packages (from kfp<2.0.0,>=1.8.9->google-cloud-pipeline-components) (0.1.10)\n",
      "Requirement already satisfied: fire<1,>=0.3.1 in /home/jupyter/.local/lib/python3.7/site-packages (from kfp<2.0.0,>=1.8.9->google-cloud-pipeline-components) (0.4.0)\n",
      "Requirement already satisfied: kfp-pipeline-spec<0.2.0,>=0.1.16 in /home/jupyter/.local/lib/python3.7/site-packages (from kfp<2.0.0,>=1.8.9->google-cloud-pipeline-components) (0.1.16)\n",
      "Requirement already satisfied: requests-toolbelt<1,>=0.8.0 in /home/jupyter/.local/lib/python3.7/site-packages (from kfp<2.0.0,>=1.8.9->google-cloud-pipeline-components) (0.10.0)\n",
      "Requirement already satisfied: kubernetes<19,>=8.0.0 in /home/jupyter/.local/lib/python3.7/site-packages (from kfp<2.0.0,>=1.8.9->google-cloud-pipeline-components) (18.20.0)\n",
      "Requirement already satisfied: kfp-server-api<2.0.0,>=1.1.2 in /home/jupyter/.local/lib/python3.7/site-packages (from kfp<2.0.0,>=1.8.9->google-cloud-pipeline-components) (1.8.5)\n",
      "Requirement already satisfied: pydantic<2,>=1.8.2 in /home/jupyter/.local/lib/python3.7/site-packages (from kfp<2.0.0,>=1.8.9->google-cloud-pipeline-components) (1.9.2)\n",
      "Requirement already satisfied: click<9,>=7.1.2 in /opt/conda/lib/python3.7/site-packages (from kfp<2.0.0,>=1.8.9->google-cloud-pipeline-components) (8.1.3)\n",
      "Requirement already satisfied: docstring-parser<1,>=0.7.3 in /home/jupyter/.local/lib/python3.7/site-packages (from kfp<2.0.0,>=1.8.9->google-cloud-pipeline-components) (0.15)\n",
      "Requirement already satisfied: typer<1.0,>=0.3.2 in /home/jupyter/.local/lib/python3.7/site-packages (from kfp<2.0.0,>=1.8.9->google-cloud-pipeline-components) (0.6.1)\n",
      "Requirement already satisfied: Deprecated<2,>=1.2.7 in /home/jupyter/.local/lib/python3.7/site-packages (from kfp<2.0.0,>=1.8.9->google-cloud-pipeline-components) (1.2.13)\n",
      "Requirement already satisfied: absl-py<2,>=0.9 in /home/jupyter/.local/lib/python3.7/site-packages (from kfp<2.0.0,>=1.8.9->google-cloud-pipeline-components) (0.11.0)\n",
      "Requirement already satisfied: google-api-python-client<2,>=1.7.8 in /home/jupyter/.local/lib/python3.7/site-packages (from kfp<2.0.0,>=1.8.9->google-cloud-pipeline-components) (1.12.11)\n",
      "Requirement already satisfied: jsonschema<4,>=3.0.1 in /home/jupyter/.local/lib/python3.7/site-packages (from kfp<2.0.0,>=1.8.9->google-cloud-pipeline-components) (3.2.0)\n",
      "Requirement already satisfied: cloudpickle<3,>=2.0.0 in /opt/conda/lib/python3.7/site-packages (from kfp<2.0.0,>=1.8.9->google-cloud-pipeline-components) (2.2.0)\n",
      "Requirement already satisfied: typing-extensions<5,>=3.7.4 in /home/jupyter/.local/lib/python3.7/site-packages (from kfp<2.0.0,>=1.8.9->google-cloud-pipeline-components) (3.10.0.2)\n",
      "Requirement already satisfied: importlib-metadata in /opt/conda/lib/python3.7/site-packages (from click<9,>=7.1.2->kfp<2.0.0,>=1.8.9->google-cloud-pipeline-components) (4.11.4)\n",
      "Requirement already satisfied: wrapt<2,>=1.10 in /opt/conda/lib/python3.7/site-packages (from Deprecated<2,>=1.2.7->kfp<2.0.0,>=1.8.9->google-cloud-pipeline-components) (1.14.1)\n",
      "Requirement already satisfied: termcolor in /opt/conda/lib/python3.7/site-packages (from fire<1,>=0.3.1->kfp<2.0.0,>=1.8.9->google-cloud-pipeline-components) (2.0.1)\n",
      "Requirement already satisfied: grpcio<2.0dev,>=1.33.2 in /opt/conda/lib/python3.7/site-packages (from google-api-core!=2.0.*,!=2.1.*,!=2.2.*,!=2.3.0,<3.0.0dev,>=1.31.5->google-cloud-pipeline-components) (1.49.1)\n",
      "Requirement already satisfied: grpcio-status<2.0dev,>=1.33.2 in /opt/conda/lib/python3.7/site-packages (from google-api-core!=2.0.*,!=2.1.*,!=2.2.*,!=2.3.0,<3.0.0dev,>=1.31.5->google-cloud-pipeline-components) (1.48.2)\n",
      "Requirement already satisfied: google-auth-httplib2>=0.0.3 in /opt/conda/lib/python3.7/site-packages (from google-api-python-client<2,>=1.7.8->kfp<2.0.0,>=1.8.9->google-cloud-pipeline-components) (0.1.0)\n",
      "Requirement already satisfied: httplib2<1dev,>=0.15.0 in /opt/conda/lib/python3.7/site-packages (from google-api-python-client<2,>=1.7.8->kfp<2.0.0,>=1.8.9->google-cloud-pipeline-components) (0.20.4)\n",
      "Requirement already satisfied: cachetools<5.0,>=2.0.0 in /home/jupyter/.local/lib/python3.7/site-packages (from google-auth<3.0dev,>=1.25.0->google-api-core!=2.0.*,!=2.1.*,!=2.2.*,!=2.3.0,<3.0.0dev,>=1.31.5->google-cloud-pipeline-components) (4.2.4)\n",
      "Requirement already satisfied: setuptools>=40.3.0 in /opt/conda/lib/python3.7/site-packages (from google-auth<3.0dev,>=1.25.0->google-api-core!=2.0.*,!=2.1.*,!=2.2.*,!=2.3.0,<3.0.0dev,>=1.31.5->google-cloud-pipeline-components) (59.8.0)\n",
      "Requirement already satisfied: rsa<5,>=3.1.4 in /opt/conda/lib/python3.7/site-packages (from google-auth<3.0dev,>=1.25.0->google-api-core!=2.0.*,!=2.1.*,!=2.2.*,!=2.3.0,<3.0.0dev,>=1.31.5->google-cloud-pipeline-components) (4.9)\n",
      "Requirement already satisfied: pyasn1-modules>=0.2.1 in /opt/conda/lib/python3.7/site-packages (from google-auth<3.0dev,>=1.25.0->google-api-core!=2.0.*,!=2.1.*,!=2.2.*,!=2.3.0,<3.0.0dev,>=1.31.5->google-cloud-pipeline-components) (0.2.7)\n",
      "Requirement already satisfied: python-dateutil<3.0dev,>=2.7.2 in /opt/conda/lib/python3.7/site-packages (from google-cloud-bigquery<3.0.0dev,>=1.15.0->google-cloud-aiplatform<2,>=1.11.0->google-cloud-pipeline-components) (2.8.2)\n",
      "Requirement already satisfied: grpc-google-iam-v1<1.0.0dev,>=0.12.4 in /opt/conda/lib/python3.7/site-packages (from google-cloud-resource-manager<3.0.0dev,>=1.3.3->google-cloud-aiplatform<2,>=1.11.0->google-cloud-pipeline-components) (0.12.4)\n",
      "Requirement already satisfied: google-crc32c<2.0dev,>=1.0 in /opt/conda/lib/python3.7/site-packages (from google-resumable-media<3.0dev,>=1.3.0->google-cloud-storage<2,>=1.20.0->google-cloud-pipeline-components) (1.1.2)\n",
      "Requirement already satisfied: attrs>=17.4.0 in /opt/conda/lib/python3.7/site-packages (from jsonschema<4,>=3.0.1->kfp<2.0.0,>=1.8.9->google-cloud-pipeline-components) (22.1.0)\n",
      "Requirement already satisfied: pyrsistent>=0.14.0 in /opt/conda/lib/python3.7/site-packages (from jsonschema<4,>=3.0.1->kfp<2.0.0,>=1.8.9->google-cloud-pipeline-components) (0.18.1)\n",
      "Requirement already satisfied: certifi in /opt/conda/lib/python3.7/site-packages (from kfp-server-api<2.0.0,>=1.1.2->kfp<2.0.0,>=1.8.9->google-cloud-pipeline-components) (2022.9.24)\n",
      "Requirement already satisfied: urllib3>=1.15 in /opt/conda/lib/python3.7/site-packages (from kfp-server-api<2.0.0,>=1.1.2->kfp<2.0.0,>=1.8.9->google-cloud-pipeline-components) (1.26.11)\n",
      "Requirement already satisfied: requests-oauthlib in /opt/conda/lib/python3.7/site-packages (from kubernetes<19,>=8.0.0->kfp<2.0.0,>=1.8.9->google-cloud-pipeline-components) (1.3.1)\n",
      "Requirement already satisfied: websocket-client!=0.40.0,!=0.41.*,!=0.42.*,>=0.32.0 in /opt/conda/lib/python3.7/site-packages (from kubernetes<19,>=8.0.0->kfp<2.0.0,>=1.8.9->google-cloud-pipeline-components) (1.4.1)\n",
      "Requirement already satisfied: pyparsing!=3.0.5,>=2.0.2 in /opt/conda/lib/python3.7/site-packages (from packaging<22.0.0dev,>=14.3->google-cloud-aiplatform<2,>=1.11.0->google-cloud-pipeline-components) (3.0.9)\n",
      "Requirement already satisfied: charset-normalizer<3,>=2 in /opt/conda/lib/python3.7/site-packages (from requests<3.0.0dev,>=2.18.0->google-api-core!=2.0.*,!=2.1.*,!=2.2.*,!=2.3.0,<3.0.0dev,>=1.31.5->google-cloud-pipeline-components) (2.1.1)\n",
      "Requirement already satisfied: idna<4,>=2.5 in /opt/conda/lib/python3.7/site-packages (from requests<3.0.0dev,>=2.18.0->google-api-core!=2.0.*,!=2.1.*,!=2.2.*,!=2.3.0,<3.0.0dev,>=1.31.5->google-cloud-pipeline-components) (3.4)\n",
      "Requirement already satisfied: wheel in /opt/conda/lib/python3.7/site-packages (from strip-hints<1,>=0.1.8->kfp<2.0.0,>=1.8.9->google-cloud-pipeline-components) (0.37.1)\n",
      "Requirement already satisfied: cffi>=1.0.0 in /opt/conda/lib/python3.7/site-packages (from google-crc32c<2.0dev,>=1.0->google-resumable-media<3.0dev,>=1.3.0->google-cloud-storage<2,>=1.20.0->google-cloud-pipeline-components) (1.15.1)\n",
      "Requirement already satisfied: pyasn1<0.5.0,>=0.4.6 in /opt/conda/lib/python3.7/site-packages (from pyasn1-modules>=0.2.1->google-auth<3.0dev,>=1.25.0->google-api-core!=2.0.*,!=2.1.*,!=2.2.*,!=2.3.0,<3.0.0dev,>=1.31.5->google-cloud-pipeline-components) (0.4.8)\n",
      "Requirement already satisfied: zipp>=0.5 in /opt/conda/lib/python3.7/site-packages (from importlib-metadata->click<9,>=7.1.2->kfp<2.0.0,>=1.8.9->google-cloud-pipeline-components) (3.9.0)\n",
      "Requirement already satisfied: oauthlib>=3.0.0 in /opt/conda/lib/python3.7/site-packages (from requests-oauthlib->kubernetes<19,>=8.0.0->kfp<2.0.0,>=1.8.9->google-cloud-pipeline-components) (3.2.1)\n",
      "Requirement already satisfied: pycparser in /opt/conda/lib/python3.7/site-packages (from cffi>=1.0.0->google-crc32c<2.0dev,>=1.0->google-resumable-media<3.0dev,>=1.3.0->google-cloud-storage<2,>=1.20.0->google-cloud-pipeline-components) (2.21)\n",
      "Requirement already satisfied: kfp in /home/jupyter/.local/lib/python3.7/site-packages (1.8.14)\n",
      "Requirement already satisfied: jsonschema<4,>=3.0.1 in /home/jupyter/.local/lib/python3.7/site-packages (from kfp) (3.2.0)\n",
      "Requirement already satisfied: google-cloud-storage<2,>=1.20.0 in /home/jupyter/.local/lib/python3.7/site-packages (from kfp) (1.44.0)\n",
      "Requirement already satisfied: fire<1,>=0.3.1 in /home/jupyter/.local/lib/python3.7/site-packages (from kfp) (0.4.0)\n",
      "Requirement already satisfied: typer<1.0,>=0.3.2 in /home/jupyter/.local/lib/python3.7/site-packages (from kfp) (0.6.1)\n",
      "Requirement already satisfied: kfp-server-api<2.0.0,>=1.1.2 in /home/jupyter/.local/lib/python3.7/site-packages (from kfp) (1.8.5)\n",
      "Requirement already satisfied: absl-py<2,>=0.9 in /home/jupyter/.local/lib/python3.7/site-packages (from kfp) (0.11.0)\n",
      "Requirement already satisfied: requests-toolbelt<1,>=0.8.0 in /home/jupyter/.local/lib/python3.7/site-packages (from kfp) (0.10.0)\n",
      "Requirement already satisfied: click<9,>=7.1.2 in /opt/conda/lib/python3.7/site-packages (from kfp) (8.1.3)\n",
      "Requirement already satisfied: typing-extensions<5,>=3.7.4 in /home/jupyter/.local/lib/python3.7/site-packages (from kfp) (3.10.0.2)\n",
      "Requirement already satisfied: PyYAML<6,>=5.3 in /home/jupyter/.local/lib/python3.7/site-packages (from kfp) (5.4.1)\n",
      "Requirement already satisfied: Deprecated<2,>=1.2.7 in /home/jupyter/.local/lib/python3.7/site-packages (from kfp) (1.2.13)\n",
      "Requirement already satisfied: pydantic<2,>=1.8.2 in /home/jupyter/.local/lib/python3.7/site-packages (from kfp) (1.9.2)\n",
      "Requirement already satisfied: google-auth<2,>=1.6.1 in /home/jupyter/.local/lib/python3.7/site-packages (from kfp) (1.35.0)\n",
      "Requirement already satisfied: kfp-pipeline-spec<0.2.0,>=0.1.16 in /home/jupyter/.local/lib/python3.7/site-packages (from kfp) (0.1.16)\n",
      "Requirement already satisfied: google-api-core!=2.0.*,!=2.1.*,!=2.2.*,!=2.3.0,<3.0.0dev,>=1.31.5 in /opt/conda/lib/python3.7/site-packages (from kfp) (2.8.0)\n",
      "Requirement already satisfied: strip-hints<1,>=0.1.8 in /home/jupyter/.local/lib/python3.7/site-packages (from kfp) (0.1.10)\n",
      "Requirement already satisfied: docstring-parser<1,>=0.7.3 in /home/jupyter/.local/lib/python3.7/site-packages (from kfp) (0.15)\n",
      "Requirement already satisfied: uritemplate<4,>=3.0.1 in /home/jupyter/.local/lib/python3.7/site-packages (from kfp) (3.0.1)\n",
      "Requirement already satisfied: google-api-python-client<2,>=1.7.8 in /home/jupyter/.local/lib/python3.7/site-packages (from kfp) (1.12.11)\n",
      "Requirement already satisfied: cloudpickle<3,>=2.0.0 in /opt/conda/lib/python3.7/site-packages (from kfp) (2.2.0)\n",
      "Requirement already satisfied: kubernetes<19,>=8.0.0 in /home/jupyter/.local/lib/python3.7/site-packages (from kfp) (18.20.0)\n",
      "Requirement already satisfied: tabulate<1,>=0.8.6 in /home/jupyter/.local/lib/python3.7/site-packages (from kfp) (0.9.0)\n",
      "Requirement already satisfied: protobuf<4,>=3.13.0 in /opt/conda/lib/python3.7/site-packages (from kfp) (3.20.3)\n",
      "Requirement already satisfied: six in /opt/conda/lib/python3.7/site-packages (from absl-py<2,>=0.9->kfp) (1.16.0)\n",
      "Requirement already satisfied: importlib-metadata in /opt/conda/lib/python3.7/site-packages (from click<9,>=7.1.2->kfp) (4.11.4)\n",
      "Requirement already satisfied: wrapt<2,>=1.10 in /opt/conda/lib/python3.7/site-packages (from Deprecated<2,>=1.2.7->kfp) (1.14.1)\n",
      "Requirement already satisfied: termcolor in /opt/conda/lib/python3.7/site-packages (from fire<1,>=0.3.1->kfp) (2.0.1)\n",
      "Requirement already satisfied: requests<3.0.0dev,>=2.18.0 in /opt/conda/lib/python3.7/site-packages (from google-api-core!=2.0.*,!=2.1.*,!=2.2.*,!=2.3.0,<3.0.0dev,>=1.31.5->kfp) (2.28.1)\n",
      "Requirement already satisfied: googleapis-common-protos<2.0dev,>=1.52.0 in /opt/conda/lib/python3.7/site-packages (from google-api-core!=2.0.*,!=2.1.*,!=2.2.*,!=2.3.0,<3.0.0dev,>=1.31.5->kfp) (1.56.4)\n",
      "Requirement already satisfied: httplib2<1dev,>=0.15.0 in /opt/conda/lib/python3.7/site-packages (from google-api-python-client<2,>=1.7.8->kfp) (0.20.4)\n",
      "Requirement already satisfied: google-auth-httplib2>=0.0.3 in /opt/conda/lib/python3.7/site-packages (from google-api-python-client<2,>=1.7.8->kfp) (0.1.0)\n",
      "Requirement already satisfied: pyasn1-modules>=0.2.1 in /opt/conda/lib/python3.7/site-packages (from google-auth<2,>=1.6.1->kfp) (0.2.7)\n",
      "Requirement already satisfied: cachetools<5.0,>=2.0.0 in /home/jupyter/.local/lib/python3.7/site-packages (from google-auth<2,>=1.6.1->kfp) (4.2.4)\n",
      "Requirement already satisfied: setuptools>=40.3.0 in /opt/conda/lib/python3.7/site-packages (from google-auth<2,>=1.6.1->kfp) (59.8.0)\n",
      "Requirement already satisfied: rsa<5,>=3.1.4 in /opt/conda/lib/python3.7/site-packages (from google-auth<2,>=1.6.1->kfp) (4.9)\n",
      "Requirement already satisfied: google-resumable-media<3.0dev,>=1.3.0 in /opt/conda/lib/python3.7/site-packages (from google-cloud-storage<2,>=1.20.0->kfp) (2.4.0)\n",
      "Requirement already satisfied: google-cloud-core<3.0dev,>=1.6.0 in /opt/conda/lib/python3.7/site-packages (from google-cloud-storage<2,>=1.20.0->kfp) (2.3.2)\n",
      "Requirement already satisfied: attrs>=17.4.0 in /opt/conda/lib/python3.7/site-packages (from jsonschema<4,>=3.0.1->kfp) (22.1.0)\n",
      "Requirement already satisfied: pyrsistent>=0.14.0 in /opt/conda/lib/python3.7/site-packages (from jsonschema<4,>=3.0.1->kfp) (0.18.1)\n",
      "Requirement already satisfied: urllib3>=1.15 in /opt/conda/lib/python3.7/site-packages (from kfp-server-api<2.0.0,>=1.1.2->kfp) (1.26.11)\n",
      "Requirement already satisfied: python-dateutil in /opt/conda/lib/python3.7/site-packages (from kfp-server-api<2.0.0,>=1.1.2->kfp) (2.8.2)\n",
      "Requirement already satisfied: certifi in /opt/conda/lib/python3.7/site-packages (from kfp-server-api<2.0.0,>=1.1.2->kfp) (2022.9.24)\n",
      "Requirement already satisfied: requests-oauthlib in /opt/conda/lib/python3.7/site-packages (from kubernetes<19,>=8.0.0->kfp) (1.3.1)\n",
      "Requirement already satisfied: websocket-client!=0.40.0,!=0.41.*,!=0.42.*,>=0.32.0 in /opt/conda/lib/python3.7/site-packages (from kubernetes<19,>=8.0.0->kfp) (1.4.1)\n",
      "Requirement already satisfied: wheel in /opt/conda/lib/python3.7/site-packages (from strip-hints<1,>=0.1.8->kfp) (0.37.1)\n",
      "Requirement already satisfied: google-crc32c<2.0dev,>=1.0 in /opt/conda/lib/python3.7/site-packages (from google-resumable-media<3.0dev,>=1.3.0->google-cloud-storage<2,>=1.20.0->kfp) (1.1.2)\n",
      "Requirement already satisfied: pyparsing!=3.0.0,!=3.0.1,!=3.0.2,!=3.0.3,<4,>=2.4.2 in /opt/conda/lib/python3.7/site-packages (from httplib2<1dev,>=0.15.0->google-api-python-client<2,>=1.7.8->kfp) (3.0.9)\n",
      "Requirement already satisfied: pyasn1<0.5.0,>=0.4.6 in /opt/conda/lib/python3.7/site-packages (from pyasn1-modules>=0.2.1->google-auth<2,>=1.6.1->kfp) (0.4.8)\n",
      "Requirement already satisfied: charset-normalizer<3,>=2 in /opt/conda/lib/python3.7/site-packages (from requests<3.0.0dev,>=2.18.0->google-api-core!=2.0.*,!=2.1.*,!=2.2.*,!=2.3.0,<3.0.0dev,>=1.31.5->kfp) (2.1.1)\n",
      "Requirement already satisfied: idna<4,>=2.5 in /opt/conda/lib/python3.7/site-packages (from requests<3.0.0dev,>=2.18.0->google-api-core!=2.0.*,!=2.1.*,!=2.2.*,!=2.3.0,<3.0.0dev,>=1.31.5->kfp) (3.4)\n",
      "Requirement already satisfied: zipp>=0.5 in /opt/conda/lib/python3.7/site-packages (from importlib-metadata->click<9,>=7.1.2->kfp) (3.9.0)\n",
      "Requirement already satisfied: oauthlib>=3.0.0 in /opt/conda/lib/python3.7/site-packages (from requests-oauthlib->kubernetes<19,>=8.0.0->kfp) (3.2.1)\n",
      "Requirement already satisfied: cffi>=1.0.0 in /opt/conda/lib/python3.7/site-packages (from google-crc32c<2.0dev,>=1.0->google-resumable-media<3.0dev,>=1.3.0->google-cloud-storage<2,>=1.20.0->kfp) (1.15.1)\n",
      "Requirement already satisfied: pycparser in /opt/conda/lib/python3.7/site-packages (from cffi>=1.0.0->google-crc32c<2.0dev,>=1.0->google-resumable-media<3.0dev,>=1.3.0->google-cloud-storage<2,>=1.20.0->kfp) (2.21)\n"
     ]
    }
   ],
   "source": [
    "\n",
    "#!pip3 install virtualenv\n",
    "#!virtualenv roonenv\n",
    "#!source roonenv/bin/activate\n",
    "#roonenv/bin/pip install google-cloud-aiplatform\n",
    "#!roonenv/bin/pip3 install --upgrade google-cloud-aiplatform \n",
    "#!roonenv/bin/pip3 install -U google-cloud-storage  \n",
    "#!roonenv/bin/pip3 install  kfp google-cloud-pipeline-components --upgrade\n",
    "#!roonenv/bin/pip3 install 'google-cloud-bigquery[pandas]' \n",
    "!pip3 install --user google-cloud-aiplatform -U\n",
    "#!pip3 install  --upgrade google-cloud-aiplatform \n",
    "#!pip3 install -U google-cloud-storage  \n",
    "!pip3 install --user google-cloud-pipeline-components -U\n",
    "!pip3 install --user  kfp -U\n",
    "#!pip3 install 'google-cloud-bigquery[pandas]' \n",
    "#RROR: pip's dependency resolver does not currently take into account all the packages that are installed. This behaviour is the source of the following dependency conflicts.\n",
    "#google-cloud-pipeline-components 1.0.25 requires google-cloud-aiplatform<2,>=1.11.0, but you have google-cloud-aiplatform 1.7.0 which is incompatible."
   ]
  },
  {
   "cell_type": "code",
   "execution_count": 56,
   "id": "b9e2768f-56f1-4d12-bea5-be8a405f0ca7",
   "metadata": {},
   "outputs": [
    {
     "data": {
      "text/plain": [
       "{'status': 'ok', 'restart': True}"
      ]
     },
     "execution_count": 56,
     "metadata": {},
     "output_type": "execute_result"
    }
   ],
   "source": [
    "# Automatically restart kernel after installs\n",
    "import os\n",
    "import IPython\n",
    "app = IPython.Application.instance()\n",
    "app.kernel.do_shutdown(True)"
   ]
  },
  {
   "cell_type": "code",
   "execution_count": 58,
   "id": "b8b6392d-1f7e-408f-9195-8c1b5c7ac1fc",
   "metadata": {},
   "outputs": [
    {
     "name": "stdout",
     "output_type": "stream",
     "text": [
      "KFP SDK version: 1.8.14\n"
     ]
    }
   ],
   "source": [
    "!python3 -c \"import kfp; print('KFP SDK version: {}'.format(kfp.__version__))\""
   ]
  },
  {
   "cell_type": "code",
   "execution_count": 59,
   "id": "135ff374-8e77-4cd8-8b60-17140932ec36",
   "metadata": {},
   "outputs": [],
   "source": [
    "PROJECT_ID =\"raniamoh-playground\""
   ]
  },
  {
   "cell_type": "code",
   "execution_count": 60,
   "id": "48b92145-f51b-4373-9052-f8e71bbc5d68",
   "metadata": {},
   "outputs": [
    {
     "name": "stdout",
     "output_type": "stream",
     "text": [
      "Project ID: raniamoh-playground\n"
     ]
    }
   ],
   "source": [
    "if PROJECT_ID == \"\" or PROJECT_ID is None or PROJECT_ID == \"raniamoh-playground\":\n",
    "    # Get your GCP project id from gcloud\n",
    "    shell_output = ! gcloud config list --format 'value(core.project)' 2>/dev/null\n",
    "    PROJECT_ID = shell_output[0]\n",
    "    print(\"Project ID:\", PROJECT_ID)"
   ]
  },
  {
   "cell_type": "code",
   "execution_count": 61,
   "id": "f94cfee7-1022-4bc1-8d17-f7cdaa0e218e",
   "metadata": {},
   "outputs": [
    {
     "name": "stdout",
     "output_type": "stream",
     "text": [
      "Updated property [core/project].\n"
     ]
    }
   ],
   "source": [
    "! gcloud config set project $PROJECT_ID"
   ]
  },
  {
   "cell_type": "code",
   "execution_count": 62,
   "id": "ba774b05-ca81-4351-9f51-69dc8a00262d",
   "metadata": {},
   "outputs": [],
   "source": [
    "#!gcloud services enable compute.googleapis.com         \\\n",
    "                 #      containerregistry.googleapis.com  \\\n",
    "                 #      aiplatform.googleapis.com"
   ]
  },
  {
   "cell_type": "code",
   "execution_count": 63,
   "id": "dba27bf6-0508-4c76-8bdf-05f16682edb7",
   "metadata": {},
   "outputs": [],
   "source": [
    "REGION = \"us-central1\""
   ]
  },
  {
   "cell_type": "code",
   "execution_count": 64,
   "id": "664a93ad-7908-44ef-b951-eecadd96e906",
   "metadata": {},
   "outputs": [
    {
     "name": "stdout",
     "output_type": "stream",
     "text": [
      "Creating gs://raniamoh-playground-bucket-ai-pip/...\n",
      "ServiceException: 409 A Cloud Storage bucket named 'raniamoh-playground-bucket-ai-pip' already exists. Try another name. Bucket names must be globally unique across all Google Cloud projects, including those outside of your organization.\n"
     ]
    }
   ],
   "source": [
    "BUCKET_NAME = \"gs://{}-bucket-ai-pip\".format(PROJECT_ID)\n",
    "!gsutil mb -l us-central1 $BUCKET_NAME # You only need to run this once"
   ]
  },
  {
   "cell_type": "code",
   "execution_count": 65,
   "id": "efc74847-5e2c-46a9-9528-899befadcab5",
   "metadata": {},
   "outputs": [],
   "source": [
    "import matplotlib.pyplot as plt\n",
    "import pandas as pd\n",
    "# We'll use this beta library for metadata querying\n",
    "from google.cloud import aiplatform as aip, aiplatform_v1beta1 as aipbeta\n",
    "from google.cloud.aiplatform import pipeline_jobs \n",
    "from kfp.v2 import compiler, dsl\n",
    "from kfp.v2.dsl import (Artifact, Dataset, Input, Metrics, Model, Output,\n",
    "                        OutputPath, component)\n",
    "from google.oauth2 import service_account as sa\n",
    "import logging as log\n",
    "import google.cloud.logging_v2 as logv2\n",
    "from os import environ"
   ]
  },
  {
   "cell_type": "code",
   "execution_count": 66,
   "id": "9dd7806f-bc6b-47f5-96e3-029c01842d1f",
   "metadata": {},
   "outputs": [
    {
     "name": "stdout",
     "output_type": "stream",
     "text": [
      "env: PATH=/usr/local/cuda/bin:/opt/conda/bin:/opt/conda/condabin:/usr/local/bin:/usr/bin:/bin:/usr/local/games:/usr/games:/home/jupyter/.local/bin:/home/jupyter/.local/bin:/home/jupyter/.local/bin:/home/jupyter/.local/bin:/home/jupyter/.local/bin:/home/jupyter/.local/bin:/home/jupyter/.local/bin\n",
      "Service Account: 189908348872-compute@developer.gserviceaccount.com\n",
      "Project ID:  raniamoh-playground\n"
     ]
    }
   ],
   "source": [
    "PATH = get_ipython().run_line_magic(\"env\", \"PATH\")\n",
    "%env PATH={PATH}:/home/jupyter/.local/bin\n",
    "REGION = \"us-central1\"\n",
    "project = \"raniamoh-playground\"\n",
    "PIPELINE_ROOT = f\"{BUCKET_NAME}/demo_dry_bean_pipeline_root/\"\n",
    "PIPELINE_ROOT\n",
    "shell_output = !gcloud auth list 2>/dev/null\n",
    "SERVICE_ACCOUNT = shell_output[2].replace(\"*\", \"\").strip()\n",
    "print(\"Service Account:\", SERVICE_ACCOUNT)\n",
    "shell_output = !gcloud config list --format 'value(core.project)' 2>/dev/null\n",
    "PROJECT_ID = shell_output[0]\n",
    "print(\"Project ID: \", PROJECT_ID)"
   ]
  },
  {
   "cell_type": "code",
   "execution_count": 67,
   "id": "7a72c27b-2276-4b9b-9a70-4d7b18c60686",
   "metadata": {},
   "outputs": [
    {
     "name": "stdout",
     "output_type": "stream",
     "text": [
      "Activated service account credentials for: [ai-piplinesa@raniamoh-playground.iam.gserviceaccount.com]\n",
      "Updated IAM policy for serviceAccount [189908348872-compute@developer.gserviceaccount.com].\n",
      "bindings:\n",
      "- members:\n",
      "  - user:admin@raniamoh.altostrat.com\n",
      "  role: roles/iam.serviceAccountAdmin\n",
      "- members:\n",
      "  - serviceAccount:ai-piplinesa@raniamoh-playground.iam.gserviceaccount.com\n",
      "  - serviceAccount:service-189908348872@compute-system.iam.gserviceaccount.com\n",
      "  role: roles/iam.serviceAccountUser\n",
      "etag: BwXrTCBWjiY=\n",
      "version: 1\n",
      "Updated IAM policy for serviceAccount [ai-piplinesa@raniamoh-playground.iam.gserviceaccount.com].\n",
      "bindings:\n",
      "- members:\n",
      "  - serviceAccount:189908348872-compute@developer.gserviceaccount.com\n",
      "  - serviceAccount:ai-piplinesa@raniamoh-playground.iam.gserviceaccount.com\n",
      "  - user:admin@raniamoh.altostrat.com\n",
      "  role: roles/iam.serviceAccountUser\n",
      "etag: BwXrTCB5xF0=\n",
      "version: 1\n"
     ]
    }
   ],
   "source": [
    "API_ENDPOINT = \"{}-aiplatform.googleapis.com\".format(REGION)\n",
    "!export GOOGLE_APPLICATION_CREDENTIALS=\"/home/jupyter/src/myplayground/raniamoh-playground-ai.json\"\n",
    "!gcloud auth activate-service-account ai-piplinesa@raniamoh-playground.iam.gserviceaccount.com --key-file=\"/home/jupyter/src/myplayground/raniamoh-playground-ai.json\"\n",
    "!gcloud iam service-accounts add-iam-policy-binding 189908348872-compute@developer.gserviceaccount.com  --member=serviceAccount:ai-piplinesa@raniamoh-playground.iam.gserviceaccount.com  --role=roles/iam.serviceAccountUser --project=raniamoh-playground\n",
    "!gcloud iam service-accounts add-iam-policy-binding ai-piplinesa@raniamoh-playground.iam.gserviceaccount.com  --member=serviceAccount:ai-piplinesa@raniamoh-playground.iam.gserviceaccount.com  --role=roles/iam.serviceAccountUser --project=raniamoh-playground"
   ]
  },
  {
   "cell_type": "code",
   "execution_count": 68,
   "id": "998f9ffc-6255-4935-accc-cc12030e5254",
   "metadata": {},
   "outputs": [],
   "source": [
    "aip.init(project=PROJECT_ID, location=REGION, credentials=sa.Credentials.from_service_account_file(\n",
    "    '/home/jupyter/src/myplayground/raniamoh-playground-ai.json'))\n"
   ]
  },
  {
   "cell_type": "code",
   "execution_count": 69,
   "id": "ecc867a6-5d83-4dd9-a0a6-01b1112a6b91",
   "metadata": {},
   "outputs": [],
   "source": [
    "@component(\n",
    "    base_image=\"python:3.9\",\n",
    "    packages_to_install=[\"google-cloud-bigquery\", \"db-dtypes\", \"pandas\", \"pyarrow\"],\n",
    "    output_component_file=\"create_dataset.yaml\",\n",
    ")\n",
    "def get_dataframe(bq_table: str, project: str, output_data_path: OutputPath(\"Dataset\")):\n",
    "    from google.cloud import bigquery\n",
    "    import logging as log\n",
    "    \n",
    "    bqclient = bigquery.Client(project=project)\n",
    "    table = bigquery.TableReference.from_string(bq_table)\n",
    "    rows = bqclient.list_rows(table)\n",
    "    dataframe = rows.to_dataframe(\n",
    "        create_bqstorage_client=True,\n",
    "    )\n",
    "    dataframe = dataframe.sample(frac=1, random_state=2)\n",
    "    dataframe.to_csv(output_data_path)"
   ]
  },
  {
   "cell_type": "code",
   "execution_count": 70,
   "id": "573bd630-b4fc-4fd0-9c7b-5f6da54ed161",
   "metadata": {},
   "outputs": [],
   "source": [
    "@component(\n",
    "    packages_to_install=[\"sklearn\", \"pandas\", \"joblib\"],\n",
    "    base_image=\"python:3.9\",\n",
    "    output_component_file=\"beans_model_component.yaml\",\n",
    ")\n",
    "def sklearn_train(\n",
    "    dataset: Input[Dataset], metrics: Output[Metrics], model: Output[Model]\n",
    "):\n",
    "    import pandas as pd\n",
    "    from joblib import dump\n",
    "    from sklearn.model_selection import train_test_split\n",
    "    from sklearn.tree import DecisionTreeClassifier\n",
    "    import logging as log\n",
    "    \n",
    "    df = pd.read_csv(dataset.path)\n",
    "    labels = df.pop(\"Class\").tolist()\n",
    "    data = df.values.tolist()\n",
    "    x_train, x_test, y_train, y_test = train_test_split(data, labels)\n",
    "\n",
    "    skmodel = DecisionTreeClassifier()\n",
    "    skmodel.fit(x_train, y_train)\n",
    "    score = skmodel.score(x_test, y_test)\n",
    "    print(\"accuracy is:\", score)\n",
    "\n",
    "    metrics.log_metric(\"accuracy\", (score * 100.0))\n",
    "    metrics.log_metric(\"framework\", \"Scikit Learn\")\n",
    "    metrics.log_metric(\"dataset_size\", len(df))\n",
    "    dump(skmodel, model.path + \".joblib\")\n",
    "    log.info(\"Model %s\",model.path)"
   ]
  },
  {
   "cell_type": "code",
   "execution_count": 71,
   "id": "15230bde-7da0-44b3-9b1b-7a825cecabd2",
   "metadata": {},
   "outputs": [],
   "source": [
    "@component(\n",
    "    packages_to_install=[\"google-cloud-aiplatform\"],\n",
    "    base_image=\"python:3.9\",\n",
    "    output_component_file=\"beans_deploy_component.yaml\",\n",
    ")\n",
    "def deploy_model(\n",
    "    model: Input[Model],\n",
    "    project: str,\n",
    "    region: str,\n",
    "    vertex_endpoint: Output[Artifact],\n",
    "    vertex_model: Output[Model],\n",
    "):\n",
    "    from google.cloud import  aiplatform as aip\n",
    "    import logging as log\n",
    "\n",
    "    aip.init(project=project, location=region)\n",
    "\n",
    "    deployed_model = aip.Model.upload(\n",
    "        display_name=\"demo-dry-beans-model-pipeline\",\n",
    "        artifact_uri=model.uri.replace(\"model\", \"\"),\n",
    "        serving_container_image_uri=\"us-docker.pkg.dev/vertex-ai/prediction/sklearn-cpu.0-24:latest\",\n",
    "    )\n",
    "    \n",
    "    log.info(\"After cont serve\")\n",
    "    endpoint = deployed_model.deploy(machine_type=\"n1-standard-4\")\n",
    "\n",
    "    # Save data to the output params\n",
    "    vertex_endpoint.uri = endpoint.resource_name\n",
    "    vertex_model.uri = deployed_model.resource_name\n",
    "    log.info(\"Model2 %s\", vertex_model.uri)"
   ]
  },
  {
   "cell_type": "code",
   "execution_count": 72,
   "id": "b7e5cf23-09d7-48c0-bce5-7191b978ff9d",
   "metadata": {},
   "outputs": [],
   "source": [
    "@dsl.pipeline(\n",
    "    # Default pipeline root. You can override it when submitting the pipeline.\n",
    "    pipeline_root=PIPELINE_ROOT,\n",
    "    # A name for the pipeline.\n",
    "    name=\"demo-dry-beans-pipeline\",\n",
    ")\n",
    "def pipeline(\n",
    "    bq_table: str = \"\",\n",
    "    output_data_path: str = \"data.csv\",\n",
    "    project: str = PROJECT_ID,\n",
    "    region: str = REGION,\n",
    "):\n",
    "    dataset_task = get_dataframe(bq_table, project=project)\n",
    "\n",
    "    model_task = sklearn_train(dataset_task.output)\n",
    "\n",
    "    deploy_model(model=model_task.outputs[\"model\"], project=project, region=region)"
   ]
  },
  {
   "cell_type": "code",
   "execution_count": 73,
   "id": "8c415017-8abc-449a-ae4b-a0c3ffd4d7e0",
   "metadata": {},
   "outputs": [
    {
     "name": "stderr",
     "output_type": "stream",
     "text": [
      "/home/jupyter/.local/lib/python3.7/site-packages/kfp/v2/compiler/compiler.py:1293: FutureWarning: APIs imported from the v1 namespace (e.g. kfp.dsl, kfp.components, etc) will not be supported by the v2 compiler since v2.0.0\n",
      "  category=FutureWarning,\n"
     ]
    }
   ],
   "source": [
    "compiler.Compiler().compile(pipeline_func=pipeline, package_path=\"demo-dry-beans-pipeline.json\")\n"
   ]
  },
  {
   "cell_type": "code",
   "execution_count": 74,
   "id": "3225ca66-e9f6-48ad-b57d-3f34077e8933",
   "metadata": {},
   "outputs": [],
   "source": [
    "from datetime import datetime\n",
    "\n",
    "TIMESTAMP = datetime.now().strftime(\"%Y%m%d%H%M%S\")"
   ]
  },
  {
   "cell_type": "code",
   "execution_count": 75,
   "id": "374089d3-5eb2-43cb-b6f7-cedc3480d61d",
   "metadata": {},
   "outputs": [],
   "source": [
    "run1 = pipeline_jobs.PipelineJob(\n",
    "    display_name=\"demo-dry-beans-pipeline\",\n",
    "    template_path=\"demo-dry-beans-pipeline.json\",\n",
    "    job_id=\"demo-dry-beans-pipeline-large-{}\".format(TIMESTAMP),\n",
    "    parameter_values={\"bq_table\": \"raniamoh-playground.my_beans_demo.beans_large_dataset\"},\n",
    "    enable_caching=True,\n",
    ")"
   ]
  },
  {
   "cell_type": "code",
   "execution_count": 76,
   "id": "8564ec42-15db-4a64-82f4-b1e9eac40814",
   "metadata": {},
   "outputs": [],
   "source": [
    "from datetime import datetime\n",
    "\n",
    "TIMESTAMP = datetime.now().strftime(\"%Y%m%d%H%M%S\")"
   ]
  },
  {
   "cell_type": "code",
   "execution_count": 77,
   "id": "76f08935-315e-4165-a578-508914519fc5",
   "metadata": {},
   "outputs": [],
   "source": [
    "run2 = pipeline_jobs.PipelineJob(\n",
    "    display_name=\"demo-dry-beans-pipeline\",\n",
    "    template_path=\"demo-dry-beans-pipeline.json\",\n",
    "    job_id=\"demo-dry-beans-pipeline-small-{}\".format(TIMESTAMP),\n",
    "    parameter_values={\"bq_table\": \"raniamoh-playground.my_beans_demo.beans_small_dataset\"},\n",
    "    enable_caching=True,\n",
    ")"
   ]
  },
  {
   "cell_type": "code",
   "execution_count": 78,
   "id": "eb4ff1e3-fbfd-47ff-b019-00c785cc7a82",
   "metadata": {},
   "outputs": [
    {
     "name": "stdout",
     "output_type": "stream",
     "text": [
      "env: PATH=/usr/local/cuda/bin:/opt/conda/bin:/opt/conda/condabin:/usr/local/bin:/usr/bin:/bin:/usr/local/games:/usr/games:/home/jupyter/.local/bin:/home/jupyter/.local/bin:/home/jupyter/.local/bin:/home/jupyter/.local/bin:/home/jupyter/.local/bin:/home/jupyter/.local/bin:/home/jupyter/.local/bin:/home/jupyter/.local/bin\n",
      "Creating PipelineJob\n",
      "PipelineJob created. Resource name: projects/189908348872/locations/us-central1/pipelineJobs/demo-dry-beans-pipeline-large-20221018095758\n",
      "To use this PipelineJob in another session:\n",
      "pipeline_job = aiplatform.PipelineJob.get('projects/189908348872/locations/us-central1/pipelineJobs/demo-dry-beans-pipeline-large-20221018095758')\n",
      "View Pipeline Job:\n",
      "https://console.cloud.google.com/vertex-ai/locations/us-central1/pipelines/runs/demo-dry-beans-pipeline-large-20221018095758?project=189908348872\n"
     ]
    }
   ],
   "source": [
    "PATH = get_ipython().run_line_magic(\"env\", \"PATH\")\n",
    "%env PATH={PATH}:/home/jupyter/.local/bin\n",
    "REGION = \"us-central1\"\n",
    "project = \"raniamoh-playground\"\n",
    "PIPELINE_ROOT = f\"{BUCKET_NAME}/dry_bean_pipeline_root/\"\n",
    "PIPELINE_ROOT\n",
    "run1.submit(service_account=\"ai-piplinesa@raniamoh-playground.iam.gserviceaccount.com\")\n"
   ]
  },
  {
   "cell_type": "code",
   "execution_count": 79,
   "id": "f3c9ade3-c471-4360-8494-4f485d9b5c22",
   "metadata": {},
   "outputs": [
    {
     "name": "stdout",
     "output_type": "stream",
     "text": [
      "env: PATH=/usr/local/cuda/bin:/opt/conda/bin:/opt/conda/condabin:/usr/local/bin:/usr/bin:/bin:/usr/local/games:/usr/games:/home/jupyter/.local/bin:/home/jupyter/.local/bin:/home/jupyter/.local/bin:/home/jupyter/.local/bin:/home/jupyter/.local/bin:/home/jupyter/.local/bin:/home/jupyter/.local/bin:/home/jupyter/.local/bin:/home/jupyter/.local/bin\n",
      "Creating PipelineJob\n",
      "PipelineJob created. Resource name: projects/189908348872/locations/us-central1/pipelineJobs/demo-dry-beans-pipeline-small-20221018095759\n",
      "To use this PipelineJob in another session:\n",
      "pipeline_job = aiplatform.PipelineJob.get('projects/189908348872/locations/us-central1/pipelineJobs/demo-dry-beans-pipeline-small-20221018095759')\n",
      "View Pipeline Job:\n",
      "https://console.cloud.google.com/vertex-ai/locations/us-central1/pipelines/runs/demo-dry-beans-pipeline-small-20221018095759?project=189908348872\n"
     ]
    }
   ],
   "source": [
    "PATH = get_ipython().run_line_magic(\"env\", \"PATH\")\n",
    "%env PATH={PATH}:/home/jupyter/.local/bin\n",
    "REGION = \"us-central1\"\n",
    "project = \"raniamoh-playground\"\n",
    "PIPELINE_ROOT = f\"{BUCKET_NAME}/dry_bean_pipeline_root/\"\n",
    "PIPELINE_ROOT\n",
    "run2.submit(service_account=\"ai-piplinesa@raniamoh-playground.iam.gserviceaccount.com\")\n"
   ]
  },
  {
   "cell_type": "code",
   "execution_count": 80,
   "id": "543d7216-78e4-4e30-bcaa-fd695869495b",
   "metadata": {},
   "outputs": [
    {
     "name": "stdout",
     "output_type": "stream",
     "text": [
      "              pipeline_name                                      run_name  \\\n",
      "0   demo-dry-beans-pipeline  demo-dry-beans-pipeline-large-20221018095758   \n",
      "1   demo-dry-beans-pipeline  demo-dry-beans-pipeline-small-20221018095045   \n",
      "2   demo-dry-beans-pipeline  demo-dry-beans-pipeline-large-20221018095045   \n",
      "3   demo-dry-beans-pipeline  demo-dry-beans-pipeline-small-20221018094635   \n",
      "4   demo-dry-beans-pipeline  demo-dry-beans-pipeline-large-20221018094635   \n",
      "5   demo-dry-beans-pipeline  demo-dry-beans-pipeline-small-20221018093622   \n",
      "6   demo-dry-beans-pipeline  demo-dry-beans-pipeline-large-20221018093620   \n",
      "7   demo-dry-beans-pipeline  demo-dry-beans-pipeline-large-20221018093040   \n",
      "8   demo-dry-beans-pipeline  demo-dry-beans-pipeline-small-20221018084813   \n",
      "9   demo-dry-beans-pipeline  demo-dry-beans-pipeline-large-20221018084811   \n",
      "10  demo-dry-beans-pipeline  demo-dry-beans-pipeline-small-20221017204251   \n",
      "11  demo-dry-beans-pipeline  demo-dry-beans-pipeline-large-20221017204249   \n",
      "\n",
      "    param.input:project                               param.input:bq_table  \\\n",
      "0   raniamoh-playground  raniamoh-playground.my_beans_demo.beans_large_...   \n",
      "1   raniamoh-playground  raniamoh-playground.my_beans_demo.beans_small_...   \n",
      "2   raniamoh-playground  raniamoh-playground.my_beans_demo.beans_large_...   \n",
      "3   raniamoh-playground  raniamoh-playground.my_beans_demo.beans_small_...   \n",
      "4   raniamoh-playground  raniamoh-playground.my_beans_demo.beans_large_...   \n",
      "5   raniamoh-playground  raniamoh-playground.my_beans_demo.beans_small_...   \n",
      "6   raniamoh-playground  raniamoh-playground.my_beans_demo.beans_large_...   \n",
      "7   raniamoh-playground  raniamoh-playground.my_beans_demo.beans_large_...   \n",
      "8   raniamoh-playground  raniamoh-playground.my_beans_demo.beans_small_...   \n",
      "9   raniamoh-playground  raniamoh-playground.my_beans_demo.beans_large_...   \n",
      "10  raniamoh-playground  raniamoh-playground.my_beans_demo.beans_small_...   \n",
      "11  raniamoh-playground  raniamoh-playground.my_beans_demo.beans_large_...   \n",
      "\n",
      "   param.input:output_data_path param.input:region metric.framework  \\\n",
      "0                      data.csv        us-central1              NaN   \n",
      "1                      data.csv        us-central1              NaN   \n",
      "2                      data.csv        us-central1              NaN   \n",
      "3                      data.csv        us-central1              NaN   \n",
      "4                      data.csv        us-central1              NaN   \n",
      "5                      data.csv        us-central1              NaN   \n",
      "6                      data.csv        us-central1              NaN   \n",
      "7                      data.csv        us-central1              NaN   \n",
      "8                      data.csv        us-central1              NaN   \n",
      "9                      data.csv        us-central1              NaN   \n",
      "10                     data.csv        us-central1     Scikit Learn   \n",
      "11                     data.csv        us-central1     Scikit Learn   \n",
      "\n",
      "    metric.dataset_size  metric.accuracy  \n",
      "0                   NaN              NaN  \n",
      "1                   NaN              NaN  \n",
      "2                   NaN              NaN  \n",
      "3                   NaN              NaN  \n",
      "4                   NaN              NaN  \n",
      "5                   NaN              NaN  \n",
      "6                   NaN              NaN  \n",
      "7                   NaN              NaN  \n",
      "8                   NaN              NaN  \n",
      "9                   NaN              NaN  \n",
      "10                700.0            100.0  \n",
      "11              13611.0            100.0  \n"
     ]
    }
   ],
   "source": [
    "df = aip.get_pipeline_df(pipeline=\"demo-dry-beans-pipeline\")\n",
    "print(df)"
   ]
  },
  {
   "cell_type": "code",
   "execution_count": 81,
   "id": "3a3afca4-5f00-488d-8e77-f081ca46b84c",
   "metadata": {},
   "outputs": [
    {
     "data": {
      "image/png": "[encoded data removed]",
      "text/plain": [
       "<Figure size 640x480 with 1 Axes>"
      ]
     },
     "metadata": {},
     "output_type": "display_data"
    }
   ],
   "source": [
    "plt.plot(df[\"metric.dataset_size\"], df[\"metric.accuracy\"], label=\"Accuracy\")\n",
    "plt.title(\"Accuracy and dataset size\")\n",
    "plt.legend(loc=4)\n",
    "plt.show()"
   ]
  },
  {
   "cell_type": "code",
   "execution_count": 82,
   "id": "73eedd1e-95e6-4829-9824-28ec512f2cfb",
   "metadata": {},
   "outputs": [],
   "source": [
    "API_ENDPOINT = \"{}-aiplatform.googleapis.com\".format(REGION)\n",
    "metadata_client = aipbeta.MetadataServiceClient(\n",
    "    client_options={\"api_endpoint\": API_ENDPOINT}\n",
    ")"
   ]
  },
  {
   "cell_type": "code",
   "execution_count": 83,
   "id": "621a15c9-9610-4ac8-a334-873321fd78ca",
   "metadata": {},
   "outputs": [],
   "source": [
    "MODEL_FILTER = 'schema_title = \"system.Model\"'\n",
    "artifact_request = aipbeta.ListArtifactsRequest(\n",
    "    parent=\"projects/{}/locations/{}/metadataStores/default\".format(PROJECT_ID, REGION),\n",
    "    filter=MODEL_FILTER,\n",
    ")\n",
    "model_artifacts = metadata_client.list_artifacts(artifact_request)"
   ]
  },
  {
   "cell_type": "code",
   "execution_count": 84,
   "id": "e783cb26-b4da-498c-9118-65faabe3ebea",
   "metadata": {},
   "outputs": [],
   "source": [
    "LIVE_FILTER = 'create_time > \"2021-08-10T00:00:00-00:00\" AND state = LIVE'\n",
    "artifact_req = {\n",
    "    \"parent\": \"projects/{}/locations/{}/metadataStores/default\".format(\n",
    "        PROJECT_ID, REGION\n",
    "    ),\n",
    "    \"filter\": LIVE_FILTER,\n",
    "}\n",
    "live_artifacts = metadata_client.list_artifacts(artifact_req)"
   ]
  },
  {
   "cell_type": "code",
   "execution_count": 85,
   "id": "be8c8998-cbe5-419c-8ce0-680923a1be5b",
   "metadata": {},
   "outputs": [
    {
     "name": "stdout",
     "output_type": "stream",
     "text": [
      "                                                  uri  \\\n",
      "0   gs://raniamoh-playground-bucket-ai-pip/demo_dr...   \n",
      "1   gs://raniamoh-playground-bucket-ai-pip/demo_dr...   \n",
      "2   gs://raniamoh-playground-bucket-ai-pip/demo_dr...   \n",
      "3   gs://raniamoh-playground-bucket-ai-pip/demo_dr...   \n",
      "4   gs://raniamoh-playground-bucket-ai-pip/demo_dr...   \n",
      "5   gs://raniamoh-playground-bucket-ai-pip/demo_dr...   \n",
      "6   gs://raniamoh-playground-bucket-ai-pip/demo_dr...   \n",
      "7   gs://raniamoh-playground-bucket-ai-pip/demo_dr...   \n",
      "8   gs://raniamoh-playground-bucket-ai-pip/demo_dr...   \n",
      "9   gs://raniamoh-playground-bucket-ai-pip/demo_dr...   \n",
      "10  gs://raniamoh-playground-bucket-ai-pip/demo_dr...   \n",
      "11  gs://raniamoh-playground-bucket-ai-pip/demo_dr...   \n",
      "12  gs://raniamoh-playground-bucket-ai-pip/pipelin...   \n",
      "13  gs://raniamoh-playground-bucket-ai-pip/dry_bea...   \n",
      "14  gs://raniamoh-playground-bucket-ai-pip/dry_bea...   \n",
      "15  gs://raniamoh-playground-bucket-ai-pip/pipelin...   \n",
      "16  gs://raniamoh-playground-bucket-ai-pip/lightwg...   \n",
      "17  gs://raniamoh-playground-bucket-ai-pip/lightwg...   \n",
      "18  gs://raniamoh-playground-bucket-ai-pip/lightwg...   \n",
      "19  gs://raniamoh-playground-bucket-ai-pip/lightwg...   \n",
      "20       gs://ml-pipeline-playground/shakespeare1.txt   \n",
      "21  gs://raniamoh-playground-bucket-ai-pip/dry_bea...   \n",
      "22  gs://raniamoh-playground-bucket-ai-pip/dry_bea...   \n",
      "23  gs://raniamoh-playground-bucket-ai-pip/dry_bea...   \n",
      "24  gs://raniamoh-playground-bucket-ai-pip/dry_bea...   \n",
      "25  gs://raniamoh-playground-bucket-ai-pip/pipelin...   \n",
      "26  gs://raniamoh-playground-bucket-ai-pip/pipelin...   \n",
      "27  gs://raniamoh-playground-bucket-ai-pip/pipelin...   \n",
      "28  gs://raniamoh-playground-bucket-ai-pip/pipelin...   \n",
      "29  gs://raniamoh-playground-bucket-ai-pip/pipelin...   \n",
      "30  gs://raniamoh-playground-bucket-ai-pip/pipelin...   \n",
      "31  gs://raniamoh-playground-bucket-ai-pip/pipelin...   \n",
      "32  gs://raniamoh-playground-bucket-ai-pip/pipelin...   \n",
      "33  gs://raniamoh-playground-bucket-ai-pip/pipelin...   \n",
      "34  gs://raniamoh-playground-bucket-ai-pip/pipelin...   \n",
      "35  gs://raniamoh-playground-bucket-ai-pip/pipelin...   \n",
      "36  gs://raniamoh-playground-bucket-ai-pip/pipelin...   \n",
      "37  gs://raniamoh-playground-bucket-ai-pip/pipelin...   \n",
      "38  gs://raniamoh-playground-bucket-ai-pip/pipelin...   \n",
      "39  gs://raniamoh-playground-bucket-ai-pip/pipelin...   \n",
      "40  gs://raniamoh-playground-bucket-ai-pip/pipelin...   \n",
      "\n",
      "                         createTime             type  \n",
      "0  2022-10-18 09:52:02.444000+00:00     system.Model  \n",
      "1  2022-10-18 09:52:02.413000+00:00   system.Metrics  \n",
      "2  2022-10-18 09:50:49.979000+00:00   system.Dataset  \n",
      "3  2022-10-18 09:52:01.011000+00:00     system.Model  \n",
      "4  2022-10-18 09:52:01.045000+00:00   system.Metrics  \n",
      "5  2022-10-18 09:50:48.638000+00:00   system.Dataset  \n",
      "6  2022-10-18 08:48:20.690000+00:00   system.Dataset  \n",
      "7  2022-10-18 08:48:18.469000+00:00   system.Dataset  \n",
      "8  2022-10-18 08:50:42.436000+00:00   system.Metrics  \n",
      "9  2022-10-18 08:50:42.400000+00:00     system.Model  \n",
      "10 2022-10-18 08:50:34.240000+00:00   system.Metrics  \n",
      "11 2022-10-18 08:50:34.273000+00:00     system.Model  \n",
      "12 2022-10-17 20:01:15.295000+00:00   system.Metrics  \n",
      "13 2022-10-17 20:44:11.482000+00:00   system.Metrics  \n",
      "14 2022-10-17 20:44:09.241000+00:00   system.Metrics  \n",
      "15 2022-10-17 20:01:17.580000+00:00   system.Metrics  \n",
      "16 2022-10-17 21:23:46.143000+00:00  system.Artifact  \n",
      "17 2022-10-17 21:23:46.089000+00:00     system.Model  \n",
      "18 2022-10-17 21:21:32.423000+00:00   system.Dataset  \n",
      "19 2022-10-17 21:21:32.390000+00:00   system.Dataset  \n",
      "20 2022-10-17 21:21:32.125000+00:00   system.Dataset  \n",
      "21 2022-10-17 20:44:11.441000+00:00     system.Model  \n",
      "22 2022-10-17 20:44:09.272000+00:00     system.Model  \n",
      "23 2022-10-17 20:42:59.004000+00:00   system.Dataset  \n",
      "24 2022-10-17 20:42:56.787000+00:00   system.Dataset  \n",
      "25 2022-10-17 18:14:30.391000+00:00   system.Metrics  \n",
      "26 2022-10-17 18:13:23.056000+00:00   system.Metrics  \n",
      "27 2022-10-17 20:01:17.506000+00:00     system.Model  \n",
      "28 2022-10-17 20:01:15.331000+00:00     system.Model  \n",
      "29 2022-10-17 19:58:33.503000+00:00   system.Dataset  \n",
      "30 2022-10-17 19:58:31.056000+00:00   system.Dataset  \n",
      "31 2022-10-17 18:14:30.427000+00:00     system.Model  \n",
      "32 2022-10-17 18:11:46.481000+00:00   system.Dataset  \n",
      "33 2022-10-17 18:13:23.087000+00:00     system.Model  \n",
      "34 2022-10-17 18:11:40.179000+00:00   system.Dataset  \n",
      "35 2022-10-17 17:11:41.984000+00:00   system.Metrics  \n",
      "36 2022-10-17 17:11:39.579000+00:00   system.Metrics  \n",
      "37 2022-10-17 17:11:41.940000+00:00     system.Model  \n",
      "38 2022-10-17 17:10:29.351000+00:00   system.Dataset  \n",
      "39 2022-10-17 17:11:39.619000+00:00     system.Model  \n",
      "40 2022-10-17 17:10:27.014000+00:00   system.Dataset  \n"
     ]
    }
   ],
   "source": [
    "data = {\"uri\": [], \"createTime\": [], \"type\": []}\n",
    "\n",
    "for i in live_artifacts:\n",
    "    data[\"uri\"].append(i.uri)\n",
    "    data[\"createTime\"].append(i.create_time)\n",
    "    data[\"type\"].append(i.schema_title)\n",
    "\n",
    "df = pd.DataFrame.from_dict(data)\n",
    "print(df)"
   ]
  },
  {
   "cell_type": "code",
   "execution_count": null,
   "id": "5f174b79-ec6a-4bb3-ae55-351d6c56fa15",
   "metadata": {},
   "outputs": [],
   "source": []
  }
 ],
 "metadata": {
  "environment": {
   "kernel": "python3",
   "name": "tf2-gpu.2-10.m98",
   "type": "gcloud",
   "uri": "gcr.io/deeplearning-platform-release/tf2-gpu.2-10:m98"
  },
  "kernelspec": {
   "display_name": "Python 3",
   "language": "python",
   "name": "python3"
  },
  "language_info": {
   "codemirror_mode": {
    "name": "ipython",
    "version": 3
   },
   "file_extension": ".py",
   "mimetype": "text/x-python",
   "name": "python",
   "nbconvert_exporter": "python",
   "pygments_lexer": "ipython3",
   "version": "3.7.12"
  }
 },
 "nbformat": 4,
 "nbformat_minor": 5
}
